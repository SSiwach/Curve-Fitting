{
  "nbformat": 4,
  "nbformat_minor": 0,
  "metadata": {
    "colab": {
      "name": "Curve_fitting_&_covariance.ipynb",
      "provenance": []
    },
    "kernelspec": {
      "name": "python3",
      "display_name": "Python 3"
    },
    "language_info": {
      "name": "python"
    }
  },
  "cells": [
    {
      "cell_type": "code",
      "execution_count": 28,
      "metadata": {
        "id": "o_QXwD-5ssjF"
      },
      "outputs": [],
      "source": [
        "\n",
        "import numpy as np\n",
        "import matplotlib.pyplot as plt\n",
        "import pandas as pd\n",
        "from scipy.optimize import curve_fit\n"
      ]
    },
    {
      "cell_type": "code",
      "source": [
        "#data points \n",
        "x_data = np.array([0.        , 0.15789474, 0.31578947, 0.47368421, 0.63157895,\n",
        "       0.78947368, 0.94736842, 1.10526316, 1.26315789, 1.42105263,\n",
        "       1.57894737, 1.73684211, 1.89473684, 2.05263158, 2.21052632,\n",
        "       2.36842105, 2.52631579, 2.68421053, 2.84210526, 3.        ])\n",
        "y_data = np.array([  2.95258285,   2.49719803,  -2.1984975 ,  -4.88744346,\n",
        "        -7.41326345,  -8.44574157, -10.01878504, -13.83743553,\n",
        "       -12.91548145, -15.41149046, -14.93516299, -13.42514157,\n",
        "       -14.12110495, -17.6412464 , -16.1275509 , -16.11533771,\n",
        "       -15.66076021, -13.48938865, -11.33918701, -11.70467566])"
      ],
      "metadata": {
        "id": "C4CiDlp_upmv"
      },
      "execution_count": 2,
      "outputs": []
    },
    {
      "cell_type": "code",
      "source": [
        "plt.scatter(x_data,y_data)\n",
        "plt.show()\n"
      ],
      "metadata": {
        "colab": {
          "base_uri": "https://localhost:8080/",
          "height": 265
        },
        "id": "DlPBKNVruwKa",
        "outputId": "dfc2f246-75ed-4d1a-c38f-b578077f83f5"
      },
      "execution_count": 29,
      "outputs": [
        {
          "output_type": "display_data",
          "data": {
            "text/plain": [
              "<Figure size 432x288 with 1 Axes>"
            ],
            "image/png": "[encoded data removed]"
          },
          "metadata": {
            "needs_background": "light"
          }
        }
      ]
    },
    {
      "cell_type": "code",
      "source": [
        "#model to be fit with the experimental data\n",
        "def model_f(x, a, b, c):\n",
        "    return a*(x-b)**2 + c"
      ],
      "metadata": {
        "id": "8FB3LFCMu6mB"
      },
      "execution_count": 63,
      "outputs": []
    },
    {
      "cell_type": "code",
      "source": [
        "popt, pcov = curve_fit(model_f, x_data, y_data, p0=[3,2,-16]) #"
      ],
      "metadata": {
        "id": "4NQecNd_vDro"
      },
      "execution_count": 65,
      "outputs": []
    },
    {
      "cell_type": "code",
      "source": [
        "popt # which gives the optimal parameters for the model_f given the data"
      ],
      "metadata": {
        "colab": {
          "base_uri": "https://localhost:8080/"
        },
        "id": "R0L6j2DsvM_R",
        "outputId": "20c848ef-2180-4d6d-a28a-5b2a64156bb4"
      },
      "execution_count": 67,
      "outputs": [
        {
          "output_type": "execute_result",
          "data": {
            "text/plain": [
              "array([  4.92207991,   2.00492121, -16.04690266])"
            ]
          },
          "metadata": {},
          "execution_count": 67
        }
      ]
    },
    {
      "cell_type": "code",
      "source": [
        "pcov  #the covariance matrix, which gives an estimate of the \"error\" of the parameters "
      ],
      "metadata": {
        "colab": {
          "base_uri": "https://localhost:8080/"
        },
        "id": "fhYcmNBEvTYu",
        "outputId": "38f1355e-7498-4f6c-f18e-05fb84bba67c"
      },
      "execution_count": 68,
      "outputs": [
        {
          "output_type": "execute_result",
          "data": {
            "text/plain": [
              "array([[ 0.12827822, -0.01315915, -0.07363194],\n",
              "       [-0.01315915,  0.00222114,  0.00322289],\n",
              "       [-0.07363194,  0.00322289,  0.13377697]])"
            ]
          },
          "metadata": {},
          "execution_count": 68
        }
      ]
    },
    {
      "cell_type": "code",
      "source": [
        "plt.imshow(np.log(np.abs(pcov)))\n",
        "plt.colorbar()\n",
        "plt.show()"
      ],
      "metadata": {
        "colab": {
          "base_uri": "https://localhost:8080/",
          "height": 269
        },
        "id": "1jxWvanpzIR7",
        "outputId": "ac986967-bde7-40ac-ecad-41fb8eca7df1"
      },
      "execution_count": 69,
      "outputs": [
        {
          "output_type": "display_data",
          "data": {
            "text/plain": [
              "<Figure size 432x288 with 2 Axes>"
            ],
            "image/png": "[encoded data removed]"
          },
          "metadata": {
            "needs_background": "light"
          }
        }
      ]
    },
    {
      "cell_type": "code",
      "source": [
        "a_opt, b_opt, c_opt = popt\n",
        "x_model = np.linspace(min(x_data), max(x_data), 100)\n",
        "y_model = model_f(x_model, a_opt, b_opt, c_opt)"
      ],
      "metadata": {
        "id": "itZ3joUfvagP"
      },
      "execution_count": 70,
      "outputs": []
    },
    {
      "cell_type": "code",
      "source": [
        "plt.scatter(x_data,y_data)\n",
        "plt.plot(x_model,y_model, color='r')\n",
        "plt.show()"
      ],
      "metadata": {
        "colab": {
          "base_uri": "https://localhost:8080/",
          "height": 265
        },
        "id": "30BU1WNZveL1",
        "outputId": "958d1381-770e-491d-9422-ce855055f4e1"
      },
      "execution_count": 71,
      "outputs": [
        {
          "output_type": "display_data",
          "data": {
            "text/plain": [
              "<Figure size 432x288 with 1 Axes>"
            ],
            "image/png": "[encoded data removed]"
          },
          "metadata": {
            "needs_background": "light"
          }
        }
      ]
    },
    {
      "cell_type": "code",
      "source": [
        "print(a_opt, b_opt, c_opt)"
      ],
      "metadata": {
        "colab": {
          "base_uri": "https://localhost:8080/"
        },
        "id": "gjBiZpW_3wdX",
        "outputId": "0934e55b-e998-4256-b52e-f08a9e693c42"
      },
      "execution_count": 72,
      "outputs": [
        {
          "output_type": "stream",
          "name": "stdout",
          "text": [
            "4.922079914475109 2.004921211603424 -16.046902656024862\n"
          ]
        }
      ]
    },
    {
      "cell_type": "code",
      "source": [
        "def fit_f(x, a, b, c, d):\n",
        "    return a*(x-b)**2 + c + d*0.1*np.cos(x)"
      ],
      "metadata": {
        "id": "WtnhNI_2v6k8"
      },
      "execution_count": 54,
      "outputs": []
    },
    {
      "cell_type": "code",
      "source": [
        "popt, pcov = curve_fit(fit_f, x_data, y_data, p0=[1,2,-16,1])"
      ],
      "metadata": {
        "id": "RqqalVoZx4xp"
      },
      "execution_count": 55,
      "outputs": []
    },
    {
      "cell_type": "code",
      "source": [
        "popt"
      ],
      "metadata": {
        "colab": {
          "base_uri": "https://localhost:8080/"
        },
        "id": "qtvCwmFbyTC1",
        "outputId": "c196479e-2181-498f-eb1b-2e9b6f264265"
      },
      "execution_count": 56,
      "outputs": [
        {
          "output_type": "execute_result",
          "data": {
            "text/plain": [
              "array([  4.90444509,   2.05365388, -16.25403078,  -5.96810795])"
            ]
          },
          "metadata": {},
          "execution_count": 56
        }
      ]
    },
    {
      "cell_type": "code",
      "source": [
        "pcov"
      ],
      "metadata": {
        "colab": {
          "base_uri": "https://localhost:8080/"
        },
        "id": "9jPPpthTx8LX",
        "outputId": "5c8ceaf3-9072-4e88-96b4-307c639f89ca"
      },
      "execution_count": 57,
      "outputs": [
        {
          "output_type": "execute_result",
          "data": {
            "text/plain": [
              "array([[ 1.45024166e-01, -4.03732481e-02,  4.08922480e-02,\n",
              "         3.05314765e+00],\n",
              "       [-4.03732481e-02,  7.20536984e-02, -3.07488391e-01,\n",
              "        -8.46750767e+00],\n",
              "       [ 4.08922480e-02, -3.07488391e-01,  1.52776279e+00,\n",
              "         3.78842374e+01],\n",
              "       [ 3.05314765e+00, -8.46750767e+00,  3.78842374e+01,\n",
              "         1.03326870e+03]])"
            ]
          },
          "metadata": {},
          "execution_count": 57
        }
      ]
    },
    {
      "cell_type": "code",
      "source": [
        "plt.imshow(np.log(np.abs(pcov)))\n",
        "plt.colorbar()\n",
        "plt.show()"
      ],
      "metadata": {
        "colab": {
          "base_uri": "https://localhost:8080/",
          "height": 269
        },
        "id": "NyxNa68yyAE-",
        "outputId": "ad8ecaf5-85ad-45ef-e5ff-ada885d07ff0"
      },
      "execution_count": 58,
      "outputs": [
        {
          "output_type": "display_data",
          "data": {
            "text/plain": [
              "<Figure size 432x288 with 2 Axes>"
            ],
            "image/png": "[encoded data removed]"
          },
          "metadata": {
            "needs_background": "light"
          }
        }
      ]
    },
    {
      "cell_type": "code",
      "source": [
        "a_opt, b_opt, c_opt, d_opt = popt\n",
        "x_model1 = np.linspace(min(x_data), max(x_data), 1000)\n",
        "y_model1 = fit_f(x_model, a_opt, b_opt, c_opt, d_opt)"
      ],
      "metadata": {
        "id": "rgaT_m_SyIxe"
      },
      "execution_count": 59,
      "outputs": []
    },
    {
      "cell_type": "code",
      "source": [
        "plt.scatter(x_data,y_data)\n",
        "plt.plot(x_model1,y_model1, color='b')\n",
        "plt.show()\n",
        "\n",
        "print(a_opt, b_opt, c_opt, d_opt)"
      ],
      "metadata": {
        "colab": {
          "base_uri": "https://localhost:8080/",
          "height": 282
        },
        "id": "9GQQsRkEyv9V",
        "outputId": "1d71766a-8f50-429d-f550-4f86aa77cfd8"
      },
      "execution_count": 62,
      "outputs": [
        {
          "output_type": "display_data",
          "data": {
            "text/plain": [
              "<Figure size 432x288 with 1 Axes>"
            ],
            "image/png": "[encoded data removed]"
          },
          "metadata": {
            "needs_background": "light"
          }
        },
        {
          "output_type": "stream",
          "name": "stdout",
          "text": [
            "4.904445092036826 2.053653881209303 -16.25403077720674 -5.968107945952066\n"
          ]
        }
      ]
    }
  ]
}