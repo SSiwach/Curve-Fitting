{
  "nbformat": 4,
  "nbformat_minor": 0,
  "metadata": {
    "colab": {
      "name": "cs_137_data_fitting.ipynb",
      "provenance": []
    },
    "kernelspec": {
      "name": "python3",
      "display_name": "Python 3"
    },
    "language_info": {
      "name": "python"
    }
  },
  "cells": [
    {
      "cell_type": "code",
      "execution_count": 5,
      "metadata": {
        "id": "oj7-GR78Kh5g"
      },
      "outputs": [],
      "source": [
        "import pandas as pd\n",
        "import matplotlib.pyplot as plt"
      ]
    },
    {
      "cell_type": "code",
      "source": [
        "df = pd.read_csv('curvefit_cs137_data.csv')\n",
        "\n",
        "df.head()\n",
        "\n",
        "x = df.Channel\n",
        "\n",
        "y = df.Cs137\n",
        "\n",
        "x,y"
      ],
      "metadata": {
        "colab": {
          "base_uri": "https://localhost:8080/"
        },
        "id": "R_OaVjZOK1-m",
        "outputId": "16829f26-2bd7-44ec-f157-1cfa5ce8d107"
      },
      "execution_count": 6,
      "outputs": [
        {
          "output_type": "execute_result",
          "data": {
            "text/plain": [
              "(0          0\n",
              " 1          1\n",
              " 2          2\n",
              " 3          3\n",
              " 4          4\n",
              "         ... \n",
              " 2043    2043\n",
              " 2044    2044\n",
              " 2045    2045\n",
              " 2046    2046\n",
              " 2047    2047\n",
              " Name: Channel, Length: 2048, dtype: int64, 0       0\n",
              " 1       0\n",
              " 2       0\n",
              " 3       0\n",
              " 4       0\n",
              "        ..\n",
              " 2043    0\n",
              " 2044    0\n",
              " 2045    0\n",
              " 2046    0\n",
              " 2047    0\n",
              " Name: Cs137, Length: 2048, dtype: int64)"
            ]
          },
          "metadata": {},
          "execution_count": 6
        }
      ]
    },
    {
      "cell_type": "code",
      "source": [
        "plt.scatter(x, y)"
      ],
      "metadata": {
        "colab": {
          "base_uri": "https://localhost:8080/",
          "height": 282
        },
        "id": "_04UolyVLsSq",
        "outputId": "72a16d72-e3a6-4aef-b4e2-e6887e139dac"
      },
      "execution_count": 7,
      "outputs": [
        {
          "output_type": "execute_result",
          "data": {
            "text/plain": [
              "<matplotlib.collections.PathCollection at 0x7f360486f510>"
            ]
          },
          "metadata": {},
          "execution_count": 7
        },
        {
          "output_type": "display_data",
          "data": {
            "text/plain": [
              "<Figure size 432x288 with 1 Axes>"
            ],
            "image/png": "[encoded data removed]"
          },
          "metadata": {
            "needs_background": "light"
          }
        }
      ]
    },
    {
      "cell_type": "markdown",
      "source": [
        "This is a Gaussian so we fit it with a Gaussian curve "
      ],
      "metadata": {
        "id": "fBzzg3PpL6vn"
      }
    },
    {
      "cell_type": "code",
      "source": [
        "def gauss_f(x,A,mu,sig):\n",
        "    return A*np.exp(-(x-mu)**2/sig**2)"
      ],
      "metadata": {
        "id": "rwVmc5paMTK5"
      },
      "execution_count": 8,
      "outputs": []
    },
    {
      "cell_type": "code",
      "source": [
        "x_data = x[(x>725) & (x<850)]\n",
        "y_data = y[(x>725) & (x<850)]"
      ],
      "metadata": {
        "id": "IOYvcXIDPg4U"
      },
      "execution_count": 9,
      "outputs": []
    },
    {
      "cell_type": "markdown",
      "source": [
        "#Plot the subregion"
      ],
      "metadata": {
        "id": "xZOBApy2P052"
      }
    },
    {
      "cell_type": "code",
      "source": [
        "plt.scatter(x_data, y_data)\n",
        "plt.show()\n"
      ],
      "metadata": {
        "colab": {
          "base_uri": "https://localhost:8080/",
          "height": 265
        },
        "id": "3ClAiV3YPh4V",
        "outputId": "ea908da6-eab9-4d1d-aeff-1dd7c562b55e"
      },
      "execution_count": 10,
      "outputs": [
        {
          "output_type": "display_data",
          "data": {
            "text/plain": [
              "<Figure size 432x288 with 1 Axes>"
            ],
            "image/png": "[encoded data removed]"
          },
          "metadata": {
            "needs_background": "light"
          }
        }
      ]
    },
    {
      "cell_type": "code",
      "source": [
        "import numpy as np\n",
        "from scipy.optimize import curve_fit\n",
        "popt, pcov = curve_fit(gauss_f, x_data, y_data, p0=[2000, 790, 60])"
      ],
      "metadata": {
        "id": "aOVrWhHNP6S9"
      },
      "execution_count": 24,
      "outputs": []
    },
    {
      "cell_type": "code",
      "source": [
        "popt #gives the optimal parameters for the model given the data"
      ],
      "metadata": {
        "colab": {
          "base_uri": "https://localhost:8080/"
        },
        "id": "rZqEoXKKQCLl",
        "outputId": "08c3bd57-6bcc-4af2-82fb-0fba61016bd0"
      },
      "execution_count": 25,
      "outputs": [
        {
          "output_type": "execute_result",
          "data": {
            "text/plain": [
              "array([1939.55510386,  786.33851861,   57.78717218])"
            ]
          },
          "metadata": {},
          "execution_count": 25
        }
      ]
    },
    {
      "cell_type": "code",
      "source": [
        "pcov  #the covariance matrix, which gives an estimate of the \"error\" of the parameters and the relation the parameters have to eachother "
      ],
      "metadata": {
        "colab": {
          "base_uri": "https://localhost:8080/"
        },
        "id": "OVv0VvJwQaXS",
        "outputId": "f05d99d3-e219-420d-a839-782b6852f5c7"
      },
      "execution_count": 26,
      "outputs": [
        {
          "output_type": "execute_result",
          "data": {
            "text/plain": [
              "array([[ 3.25193916e+01,  1.08041870e-02, -9.64139417e-01],\n",
              "       [ 1.08041870e-02,  2.07415740e-02, -1.14109425e-03],\n",
              "       [-9.64139417e-01, -1.14109425e-03,  6.98395032e-02]])"
            ]
          },
          "metadata": {},
          "execution_count": 26
        }
      ]
    },
    {
      "cell_type": "code",
      "source": [],
      "metadata": {
        "id": "1voF-Y8wXLRY"
      },
      "execution_count": null,
      "outputs": []
    },
    {
      "cell_type": "code",
      "source": [
        "plt.imshow(np.log(np.abs(pcov)))\n",
        "plt.colorbar()\n",
        "plt.show()"
      ],
      "metadata": {
        "colab": {
          "base_uri": "https://localhost:8080/",
          "height": 269
        },
        "id": "ot0xif_bQbQC",
        "outputId": "e1e30803-533c-4863-dc7e-a424762c63c6"
      },
      "execution_count": 27,
      "outputs": [
        {
          "output_type": "display_data",
          "data": {
            "text/plain": [
              "<Figure size 432x288 with 2 Axes>"
            ],
            "image/png": "[encoded data removed]"
          },
          "metadata": {
            "needs_background": "light"
          }
        }
      ]
    },
    {
      "cell_type": "code",
      "source": [
        "A_opt, mu_opt, sig_opt = popt\n",
        "x_model = np.linspace(min(x_data), max(x_data ), 1000)\n",
        "y_model = gauss_f(x_model, A_opt, mu_opt, sig_opt)\n"
      ],
      "metadata": {
        "id": "v1Grdu3iQ_ST"
      },
      "execution_count": 41,
      "outputs": []
    },
    {
      "cell_type": "code",
      "source": [
        "plt.scatter(x_data, y_data)\n",
        "plt.plot(x_model, y_model, color='r')\n",
        "plt.show()"
      ],
      "metadata": {
        "colab": {
          "base_uri": "https://localhost:8080/",
          "height": 265
        },
        "id": "W7RQi0QcRExA",
        "outputId": "29da0b8c-7c63-4809-d7fa-aae9449cd49b"
      },
      "execution_count": 42,
      "outputs": [
        {
          "output_type": "display_data",
          "data": {
            "text/plain": [
              "<Figure size 432x288 with 1 Axes>"
            ],
            "image/png": "[encoded data removed]"
          },
          "metadata": {
            "needs_background": "light"
          }
        }
      ]
    },
    {
      "cell_type": "code",
      "source": [
        "popt"
      ],
      "metadata": {
        "colab": {
          "base_uri": "https://localhost:8080/"
        },
        "id": "9ef_lUWlSfWD",
        "outputId": "e265e372-bb25-452e-82fa-7910f5820382"
      },
      "execution_count": 43,
      "outputs": [
        {
          "output_type": "execute_result",
          "data": {
            "text/plain": [
              "array([1939.55510386,  786.33851861,   57.78717218])"
            ]
          },
          "metadata": {},
          "execution_count": 43
        }
      ]
    },
    {
      "cell_type": "code",
      "source": [
        "np.sqrt(np.diag(pcov))"
      ],
      "metadata": {
        "colab": {
          "base_uri": "https://localhost:8080/"
        },
        "id": "Do7itc35Siv3",
        "outputId": "01b32c40-8ec8-41ec-85db-6513fcf9c2ae"
      },
      "execution_count": 44,
      "outputs": [
        {
          "output_type": "execute_result",
          "data": {
            "text/plain": [
              "array([5.70257763, 0.14401935, 0.26427165])"
            ]
          },
          "metadata": {},
          "execution_count": 44
        }
      ]
    },
    {
      "cell_type": "code",
      "source": [
        "yerr_data = np.sqrt(y_data)"
      ],
      "metadata": {
        "id": "7HVJ0OLAWBjV"
      },
      "execution_count": 46,
      "outputs": []
    },
    {
      "cell_type": "code",
      "source": [
        "plt.errorbar(x_data, y_data, yerr_data, ls='', color='k')\n",
        "plt.scatter(x_data, y_data, s=7, zorder=1000)\n",
        "plt.plot(x_model, y_model, color='r')\n",
        "plt.show()"
      ],
      "metadata": {
        "colab": {
          "base_uri": "https://localhost:8080/",
          "height": 265
        },
        "id": "QqImTT1VWFvv",
        "outputId": "7a4791d1-36f1-4234-824d-5b61bdaf4da7"
      },
      "execution_count": 48,
      "outputs": [
        {
          "output_type": "display_data",
          "data": {
            "text/plain": [
              "<Figure size 432x288 with 1 Axes>"
            ],
            "image/png": "[encoded data removed]"
          },
          "metadata": {
            "needs_background": "light"
          }
        }
      ]
    },
    {
      "cell_type": "code",
      "source": [
        "popt"
      ],
      "metadata": {
        "colab": {
          "base_uri": "https://localhost:8080/"
        },
        "id": "upCCR_CjWQVr",
        "outputId": "e36b9f2f-6073-4119-c0ba-364a27bdc519"
      },
      "execution_count": 49,
      "outputs": [
        {
          "output_type": "execute_result",
          "data": {
            "text/plain": [
              "array([1939.55510386,  786.33851861,   57.78717218])"
            ]
          },
          "metadata": {},
          "execution_count": 49
        }
      ]
    },
    {
      "cell_type": "code",
      "source": [
        "np.sqrt(np.diag(pcov)) #diagionalization of covariance matrix"
      ],
      "metadata": {
        "colab": {
          "base_uri": "https://localhost:8080/"
        },
        "id": "yS-ea23NWTUE",
        "outputId": "fc1b3bde-9fc2-4bc7-ae6a-bfbb590bb99f"
      },
      "execution_count": 50,
      "outputs": [
        {
          "output_type": "execute_result",
          "data": {
            "text/plain": [
              "array([5.70257763, 0.14401935, 0.26427165])"
            ]
          },
          "metadata": {},
          "execution_count": 50
        }
      ]
    }
  ]
}